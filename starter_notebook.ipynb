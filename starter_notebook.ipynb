{
  "cells": [
    {
      "cell_type": "markdown",
      "id": "72e78a05",
      "metadata": {
        "id": "72e78a05"
      },
      "source": [
        "# 🌦️ WeatherWise – Starter Notebook\n",
        "\n",
        "Welcome to your **WeatherWise** project notebook! This scaffold is designed to help you build your weather advisor app using Python, visualisations, and AI-enhanced development.\n",
        "\n",
        "---\n",
        "\n",
        "📄 **Full Assignment Specification**  \n",
        "See [`ASSIGNMENT.md`](ASSIGNMENT.md) or check the LMS for full details.\n",
        "\n",
        "📝 **Quick Refresher**  \n",
        "A one-page summary is available in [`resources/assignment-summary.md`](resources/assignment-summary.md).\n",
        "\n",
        "---\n",
        "\n",
        "🧠 **This Notebook Structure is Optional**  \n",
        "You’re encouraged to reorganise, rename sections, or remove scaffold cells if you prefer — as long as your final version meets the requirements.\n",
        "\n",
        "✅ You may delete this note before submission.\n",
        "\n"
      ]
    },
    {
      "cell_type": "markdown",
      "id": "fa8c7f6c",
      "metadata": {
        "id": "fa8c7f6c"
      },
      "source": [
        "## 🧰 Setup and Imports\n",
        "\n",
        "This section imports commonly used packages and installs any additional tools used in the project.\n",
        "\n",
        "- You may not need all of these unless you're using specific features (e.g. visualisations, advanced prompting).\n",
        "- The notebook assumes the following packages are **pre-installed** in the provided environment or installable via pip:\n",
        "  - `requests`, `matplotlib`, `pyinputplus`\n",
        "  - `fetch-my-weather` (for accessing weather data easily)\n",
        "  - `hands-on-ai` (for AI logging, comparisons, or prompting tools)\n",
        "\n",
        "If you're running this notebook in **Google Colab**, uncomment the following lines to install the required packages.\n"
      ]
    },
    {
      "cell_type": "code",
      "execution_count": 167,
      "id": "70c3f3f1",
      "metadata": {
        "id": "70c3f3f1",
        "outputId": "215f74e5-a88f-4508-f975-e36dd59a34c3",
        "colab": {
          "base_uri": "https://localhost:8080/"
        }
      },
      "outputs": [
        {
          "output_type": "stream",
          "name": "stdout",
          "text": [
            "Requirement already satisfied: fetch-my-weather in /usr/local/lib/python3.12/dist-packages (0.4.0)\n",
            "Requirement already satisfied: requests>=2.25.0 in /usr/local/lib/python3.12/dist-packages (from fetch-my-weather) (2.32.4)\n",
            "Requirement already satisfied: pydantic>=1.8.0 in /usr/local/lib/python3.12/dist-packages (from fetch-my-weather) (2.11.10)\n",
            "Requirement already satisfied: annotated-types>=0.6.0 in /usr/local/lib/python3.12/dist-packages (from pydantic>=1.8.0->fetch-my-weather) (0.7.0)\n",
            "Requirement already satisfied: pydantic-core==2.33.2 in /usr/local/lib/python3.12/dist-packages (from pydantic>=1.8.0->fetch-my-weather) (2.33.2)\n",
            "Requirement already satisfied: typing-extensions>=4.12.2 in /usr/local/lib/python3.12/dist-packages (from pydantic>=1.8.0->fetch-my-weather) (4.15.0)\n",
            "Requirement already satisfied: typing-inspection>=0.4.0 in /usr/local/lib/python3.12/dist-packages (from pydantic>=1.8.0->fetch-my-weather) (0.4.2)\n",
            "Requirement already satisfied: charset_normalizer<4,>=2 in /usr/local/lib/python3.12/dist-packages (from requests>=2.25.0->fetch-my-weather) (3.4.4)\n",
            "Requirement already satisfied: idna<4,>=2.5 in /usr/local/lib/python3.12/dist-packages (from requests>=2.25.0->fetch-my-weather) (3.11)\n",
            "Requirement already satisfied: urllib3<3,>=1.21.1 in /usr/local/lib/python3.12/dist-packages (from requests>=2.25.0->fetch-my-weather) (2.5.0)\n",
            "Requirement already satisfied: certifi>=2017.4.17 in /usr/local/lib/python3.12/dist-packages (from requests>=2.25.0->fetch-my-weather) (2025.10.5)\n",
            "Requirement already satisfied: hands-on-ai in /usr/local/lib/python3.12/dist-packages (0.2.1)\n",
            "Requirement already satisfied: requests in /usr/local/lib/python3.12/dist-packages (from hands-on-ai) (2.32.4)\n",
            "Requirement already satisfied: typer in /usr/local/lib/python3.12/dist-packages (from hands-on-ai) (0.19.2)\n",
            "Requirement already satisfied: python-fasthtml in /usr/local/lib/python3.12/dist-packages (from hands-on-ai) (0.12.29)\n",
            "Requirement already satisfied: python-docx in /usr/local/lib/python3.12/dist-packages (from hands-on-ai) (1.2.0)\n",
            "Requirement already satisfied: pymupdf in /usr/local/lib/python3.12/dist-packages (from hands-on-ai) (1.26.5)\n",
            "Requirement already satisfied: scikit-learn in /usr/local/lib/python3.12/dist-packages (from hands-on-ai) (1.6.1)\n",
            "Requirement already satisfied: numpy in /usr/local/lib/python3.12/dist-packages (from hands-on-ai) (2.0.2)\n",
            "Requirement already satisfied: instructor>=1.11.0 in /usr/local/lib/python3.12/dist-packages (from hands-on-ai) (1.11.3)\n",
            "Requirement already satisfied: pydantic>=2.0 in /usr/local/lib/python3.12/dist-packages (from hands-on-ai) (2.11.10)\n",
            "Requirement already satisfied: aiohttp<4.0.0,>=3.9.1 in /usr/local/lib/python3.12/dist-packages (from instructor>=1.11.0->hands-on-ai) (3.13.0)\n",
            "Requirement already satisfied: diskcache>=5.6.3 in /usr/local/lib/python3.12/dist-packages (from instructor>=1.11.0->hands-on-ai) (5.6.3)\n",
            "Requirement already satisfied: docstring-parser<1.0,>=0.16 in /usr/local/lib/python3.12/dist-packages (from instructor>=1.11.0->hands-on-ai) (0.17.0)\n",
            "Requirement already satisfied: jinja2<4.0.0,>=3.1.4 in /usr/local/lib/python3.12/dist-packages (from instructor>=1.11.0->hands-on-ai) (3.1.6)\n",
            "Requirement already satisfied: jiter<0.11,>=0.6.1 in /usr/local/lib/python3.12/dist-packages (from instructor>=1.11.0->hands-on-ai) (0.10.0)\n",
            "Requirement already satisfied: openai<2.0.0,>=1.70.0 in /usr/local/lib/python3.12/dist-packages (from instructor>=1.11.0->hands-on-ai) (1.109.1)\n",
            "Requirement already satisfied: pydantic-core<3.0.0,>=2.18.0 in /usr/local/lib/python3.12/dist-packages (from instructor>=1.11.0->hands-on-ai) (2.33.2)\n",
            "Requirement already satisfied: rich<15.0.0,>=13.7.0 in /usr/local/lib/python3.12/dist-packages (from instructor>=1.11.0->hands-on-ai) (13.9.4)\n",
            "Requirement already satisfied: tenacity<10.0.0,>=8.2.3 in /usr/local/lib/python3.12/dist-packages (from instructor>=1.11.0->hands-on-ai) (8.5.0)\n",
            "Requirement already satisfied: annotated-types>=0.6.0 in /usr/local/lib/python3.12/dist-packages (from pydantic>=2.0->hands-on-ai) (0.7.0)\n",
            "Requirement already satisfied: typing-extensions>=4.12.2 in /usr/local/lib/python3.12/dist-packages (from pydantic>=2.0->hands-on-ai) (4.15.0)\n",
            "Requirement already satisfied: typing-inspection>=0.4.0 in /usr/local/lib/python3.12/dist-packages (from pydantic>=2.0->hands-on-ai) (0.4.2)\n",
            "Requirement already satisfied: charset_normalizer<4,>=2 in /usr/local/lib/python3.12/dist-packages (from requests->hands-on-ai) (3.4.4)\n",
            "Requirement already satisfied: idna<4,>=2.5 in /usr/local/lib/python3.12/dist-packages (from requests->hands-on-ai) (3.11)\n",
            "Requirement already satisfied: urllib3<3,>=1.21.1 in /usr/local/lib/python3.12/dist-packages (from requests->hands-on-ai) (2.5.0)\n",
            "Requirement already satisfied: certifi>=2017.4.17 in /usr/local/lib/python3.12/dist-packages (from requests->hands-on-ai) (2025.10.5)\n",
            "Requirement already satisfied: click>=8.0.0 in /usr/local/lib/python3.12/dist-packages (from typer->hands-on-ai) (8.3.0)\n",
            "Requirement already satisfied: shellingham>=1.3.0 in /usr/local/lib/python3.12/dist-packages (from typer->hands-on-ai) (1.5.4)\n",
            "Requirement already satisfied: lxml>=3.1.0 in /usr/local/lib/python3.12/dist-packages (from python-docx->hands-on-ai) (5.4.0)\n",
            "Requirement already satisfied: fastcore>=1.8.1 in /usr/local/lib/python3.12/dist-packages (from python-fasthtml->hands-on-ai) (1.8.12)\n",
            "Requirement already satisfied: python-dateutil in /usr/local/lib/python3.12/dist-packages (from python-fasthtml->hands-on-ai) (2.9.0.post0)\n",
            "Requirement already satisfied: starlette>0.33 in /usr/local/lib/python3.12/dist-packages (from python-fasthtml->hands-on-ai) (0.48.0)\n",
            "Requirement already satisfied: oauthlib in /usr/local/lib/python3.12/dist-packages (from python-fasthtml->hands-on-ai) (3.3.1)\n",
            "Requirement already satisfied: itsdangerous in /usr/local/lib/python3.12/dist-packages (from python-fasthtml->hands-on-ai) (2.2.0)\n",
            "Requirement already satisfied: uvicorn>=0.30 in /usr/local/lib/python3.12/dist-packages (from uvicorn[standard]>=0.30->python-fasthtml->hands-on-ai) (0.37.0)\n",
            "Requirement already satisfied: httpx in /usr/local/lib/python3.12/dist-packages (from python-fasthtml->hands-on-ai) (0.28.1)\n",
            "Requirement already satisfied: fastlite>=0.1.1 in /usr/local/lib/python3.12/dist-packages (from python-fasthtml->hands-on-ai) (0.2.1)\n",
            "Requirement already satisfied: python-multipart in /usr/local/lib/python3.12/dist-packages (from python-fasthtml->hands-on-ai) (0.0.20)\n",
            "Requirement already satisfied: beautifulsoup4 in /usr/local/lib/python3.12/dist-packages (from python-fasthtml->hands-on-ai) (4.13.5)\n",
            "Requirement already satisfied: scipy>=1.6.0 in /usr/local/lib/python3.12/dist-packages (from scikit-learn->hands-on-ai) (1.16.2)\n",
            "Requirement already satisfied: joblib>=1.2.0 in /usr/local/lib/python3.12/dist-packages (from scikit-learn->hands-on-ai) (1.5.2)\n",
            "Requirement already satisfied: threadpoolctl>=3.1.0 in /usr/local/lib/python3.12/dist-packages (from scikit-learn->hands-on-ai) (3.6.0)\n",
            "Requirement already satisfied: aiohappyeyeballs>=2.5.0 in /usr/local/lib/python3.12/dist-packages (from aiohttp<4.0.0,>=3.9.1->instructor>=1.11.0->hands-on-ai) (2.6.1)\n",
            "Requirement already satisfied: aiosignal>=1.4.0 in /usr/local/lib/python3.12/dist-packages (from aiohttp<4.0.0,>=3.9.1->instructor>=1.11.0->hands-on-ai) (1.4.0)\n",
            "Requirement already satisfied: attrs>=17.3.0 in /usr/local/lib/python3.12/dist-packages (from aiohttp<4.0.0,>=3.9.1->instructor>=1.11.0->hands-on-ai) (25.4.0)\n",
            "Requirement already satisfied: frozenlist>=1.1.1 in /usr/local/lib/python3.12/dist-packages (from aiohttp<4.0.0,>=3.9.1->instructor>=1.11.0->hands-on-ai) (1.8.0)\n",
            "Requirement already satisfied: multidict<7.0,>=4.5 in /usr/local/lib/python3.12/dist-packages (from aiohttp<4.0.0,>=3.9.1->instructor>=1.11.0->hands-on-ai) (6.7.0)\n",
            "Requirement already satisfied: propcache>=0.2.0 in /usr/local/lib/python3.12/dist-packages (from aiohttp<4.0.0,>=3.9.1->instructor>=1.11.0->hands-on-ai) (0.4.1)\n",
            "Requirement already satisfied: yarl<2.0,>=1.17.0 in /usr/local/lib/python3.12/dist-packages (from aiohttp<4.0.0,>=3.9.1->instructor>=1.11.0->hands-on-ai) (1.22.0)\n",
            "Requirement already satisfied: packaging in /usr/local/lib/python3.12/dist-packages (from fastcore>=1.8.1->python-fasthtml->hands-on-ai) (25.0)\n",
            "Requirement already satisfied: apswutils>=0.1.0 in /usr/local/lib/python3.12/dist-packages (from fastlite>=0.1.1->python-fasthtml->hands-on-ai) (0.1.0)\n",
            "Requirement already satisfied: MarkupSafe>=2.0 in /usr/local/lib/python3.12/dist-packages (from jinja2<4.0.0,>=3.1.4->instructor>=1.11.0->hands-on-ai) (3.0.3)\n",
            "Requirement already satisfied: anyio<5,>=3.5.0 in /usr/local/lib/python3.12/dist-packages (from openai<2.0.0,>=1.70.0->instructor>=1.11.0->hands-on-ai) (4.11.0)\n",
            "Requirement already satisfied: distro<2,>=1.7.0 in /usr/local/lib/python3.12/dist-packages (from openai<2.0.0,>=1.70.0->instructor>=1.11.0->hands-on-ai) (1.9.0)\n",
            "Requirement already satisfied: sniffio in /usr/local/lib/python3.12/dist-packages (from openai<2.0.0,>=1.70.0->instructor>=1.11.0->hands-on-ai) (1.3.1)\n",
            "Requirement already satisfied: tqdm>4 in /usr/local/lib/python3.12/dist-packages (from openai<2.0.0,>=1.70.0->instructor>=1.11.0->hands-on-ai) (4.67.1)\n",
            "Requirement already satisfied: httpcore==1.* in /usr/local/lib/python3.12/dist-packages (from httpx->python-fasthtml->hands-on-ai) (1.0.9)\n",
            "Requirement already satisfied: h11>=0.16 in /usr/local/lib/python3.12/dist-packages (from httpcore==1.*->httpx->python-fasthtml->hands-on-ai) (0.16.0)\n",
            "Requirement already satisfied: markdown-it-py>=2.2.0 in /usr/local/lib/python3.12/dist-packages (from rich<15.0.0,>=13.7.0->instructor>=1.11.0->hands-on-ai) (4.0.0)\n",
            "Requirement already satisfied: pygments<3.0.0,>=2.13.0 in /usr/local/lib/python3.12/dist-packages (from rich<15.0.0,>=13.7.0->instructor>=1.11.0->hands-on-ai) (2.19.2)\n",
            "Requirement already satisfied: httptools>=0.6.3 in /usr/local/lib/python3.12/dist-packages (from uvicorn[standard]>=0.30->python-fasthtml->hands-on-ai) (0.7.1)\n",
            "Requirement already satisfied: python-dotenv>=0.13 in /usr/local/lib/python3.12/dist-packages (from uvicorn[standard]>=0.30->python-fasthtml->hands-on-ai) (1.1.1)\n",
            "Requirement already satisfied: pyyaml>=5.1 in /usr/local/lib/python3.12/dist-packages (from uvicorn[standard]>=0.30->python-fasthtml->hands-on-ai) (6.0.3)\n",
            "Requirement already satisfied: uvloop>=0.15.1 in /usr/local/lib/python3.12/dist-packages (from uvicorn[standard]>=0.30->python-fasthtml->hands-on-ai) (0.22.1)\n",
            "Requirement already satisfied: watchfiles>=0.13 in /usr/local/lib/python3.12/dist-packages (from uvicorn[standard]>=0.30->python-fasthtml->hands-on-ai) (1.1.1)\n",
            "Requirement already satisfied: websockets>=10.4 in /usr/local/lib/python3.12/dist-packages (from uvicorn[standard]>=0.30->python-fasthtml->hands-on-ai) (15.0.1)\n",
            "Requirement already satisfied: soupsieve>1.2 in /usr/local/lib/python3.12/dist-packages (from beautifulsoup4->python-fasthtml->hands-on-ai) (2.8)\n",
            "Requirement already satisfied: six>=1.5 in /usr/local/lib/python3.12/dist-packages (from python-dateutil->python-fasthtml->hands-on-ai) (1.17.0)\n",
            "Requirement already satisfied: apsw in /usr/local/lib/python3.12/dist-packages (from apswutils>=0.1.0->fastlite>=0.1.1->python-fasthtml->hands-on-ai) (3.50.4.0)\n",
            "Requirement already satisfied: mdurl~=0.1 in /usr/local/lib/python3.12/dist-packages (from markdown-it-py>=2.2.0->rich<15.0.0,>=13.7.0->instructor>=1.11.0->hands-on-ai) (0.1.2)\n"
          ]
        }
      ],
      "source": [
        "# 🧪 Optional packages — uncomment if needed in Colab or JupyterHub\n",
        "!pip install fetch-my-weather\n",
        "!pip install hands-on-ai\n"
      ]
    },
    {
      "cell_type": "code",
      "source": [
        "# import os\n",
        "\n",
        "# os.environ['HANDS_ON_AI_SERVER'] = 'http://ollama.serveur.au'\n",
        "# os.environ['HANDS_ON_AI_MODEL'] = 'granite3.2'\n",
        "# os.environ['HANDS_ON_AI_API_KEY'] = input('Enter your API key: ')\n",
        "\n",
        "!pip install pyinputplus"
      ],
      "metadata": {
        "id": "B2JKlJfrGgIb",
        "outputId": "c8b0b26f-0f29-45de-fb67-0a0492c84b69",
        "colab": {
          "base_uri": "https://localhost:8080/"
        }
      },
      "id": "B2JKlJfrGgIb",
      "execution_count": 168,
      "outputs": [
        {
          "output_type": "stream",
          "name": "stdout",
          "text": [
            "Requirement already satisfied: pyinputplus in /usr/local/lib/python3.12/dist-packages (0.2.12)\n",
            "Requirement already satisfied: pysimplevalidate>=0.2.7 in /usr/local/lib/python3.12/dist-packages (from pyinputplus) (0.2.12)\n",
            "Requirement already satisfied: stdiomask>=0.0.3 in /usr/local/lib/python3.12/dist-packages (from pyinputplus) (0.0.6)\n"
          ]
        }
      ]
    },
    {
      "cell_type": "markdown",
      "id": "59ae7543",
      "metadata": {
        "id": "59ae7543"
      },
      "source": [
        "## 📦 Setup and Configuration\n",
        "Import required packages and setup environment."
      ]
    },
    {
      "cell_type": "code",
      "execution_count": 169,
      "id": "f1dd051e",
      "metadata": {
        "id": "f1dd051e"
      },
      "outputs": [],
      "source": [
        "import requests\n",
        "import matplotlib.pyplot as plt\n",
        "import pyinputplus as pyip\n",
        "# ✅ Import after installing (if needed)\n",
        "from fetch_my_weather import get_weather\n",
        "from hands_on_ai.chat import get_response\n",
        "\n",
        "# Add any other setup code here"
      ]
    },
    {
      "cell_type": "markdown",
      "id": "f736ade3",
      "metadata": {
        "id": "f736ade3"
      },
      "source": [
        "## 🌤️ Weather Data Functions"
      ]
    },
    {
      "cell_type": "code",
      "execution_count": 170,
      "id": "7a2c7cd0",
      "metadata": {
        "id": "7a2c7cd0"
      },
      "outputs": [],
      "source": [
        "# Define get_weather_data() function here\n",
        "def get_weather_data(location, forecast_days=5):\n",
        "    \"\"\"\n",
        "    Retrieve weather data for a specified location.\n",
        "\n",
        "    Args:\n",
        "        location (str): City or location name\n",
        "        forecast_days (int): Number of days to forecast (1-5)\n",
        "\n",
        "    Returns:\n",
        "        dict: Weather data including current conditions and forecast\n",
        "    \"\"\"\n",
        "    pass"
      ]
    },
    {
      "cell_type": "markdown",
      "id": "8a744fdc",
      "metadata": {
        "id": "8a744fdc"
      },
      "source": [
        "## 📊 Visualisation Functions"
      ]
    },
    {
      "cell_type": "code",
      "execution_count": 171,
      "id": "9dc3bf85",
      "metadata": {
        "id": "9dc3bf85"
      },
      "outputs": [],
      "source": [
        "# Define create_temperature_visualisation() and create_precipitation_visualisation() here\n",
        "def create_temperature_visualisation(weather_data, output_type='display'):\n",
        "    \"\"\"\n",
        "    Create visualisation of temperature data.\n",
        "\n",
        "    Args:\n",
        "        weather_data (dict): The processed weather data\n",
        "        output_type (str): Either 'display' to show in notebook or 'figure' to return the figure\n",
        "\n",
        "    Returns:\n",
        "        If output_type is 'figure', returns the matplotlib figure object\n",
        "        Otherwise, displays the visualisation in the notebook\n",
        "    \"\"\"\n",
        "    pass\n"
      ]
    },
    {
      "cell_type": "code",
      "source": [
        "\n",
        "def create_precipitation_visualisation(weather_data, output_type='display'):\n",
        "    \"\"\"\n",
        "    Create visualisation of precipitation data.\n",
        "\n",
        "    Args:\n",
        "        weather_data (dict): The processed weather data\n",
        "        output_type (str): Either 'display' to show in notebook or 'figure' to return the figure\n",
        "\n",
        "    Returns:\n",
        "        If output_type is 'figure', returns the matplotlib figure object\n",
        "        Otherwise, displays the visualisation in the notebook\n",
        "    \"\"\"\n",
        "    pass"
      ],
      "metadata": {
        "id": "HpOlQylYG5Ho"
      },
      "id": "HpOlQylYG5Ho",
      "execution_count": 172,
      "outputs": []
    },
    {
      "cell_type": "markdown",
      "id": "9f95d160",
      "metadata": {
        "id": "9f95d160"
      },
      "source": [
        "## 🤖 Natural Language Processing"
      ]
    },
    {
      "cell_type": "code",
      "execution_count": 173,
      "id": "bcc5833e",
      "metadata": {
        "id": "bcc5833e"
      },
      "outputs": [],
      "source": [
        "# Define parse_weather_question() and generate_weather_response() here\n",
        "def parse_weather_question(question):\n",
        "    \"\"\"\n",
        "    Parse a natural language weather question.\n",
        "\n",
        "    Args:\n",
        "        question (str): User's weather-related question\n",
        "\n",
        "    Returns:\n",
        "        dict: Extracted information including location, time period, and weather attribute\n",
        "    \"\"\"\n",
        "    pass"
      ]
    },
    {
      "cell_type": "markdown",
      "id": "0d85225e",
      "metadata": {
        "id": "0d85225e"
      },
      "source": [
        "## 🧭 User Interface"
      ]
    },
    {
      "cell_type": "code",
      "execution_count": 174,
      "id": "fa6cb0f6",
      "metadata": {
        "id": "fa6cb0f6"
      },
      "outputs": [],
      "source": [
        "# Define menu functions using pyinputplus or ipywidgets here"
      ]
    },
    {
      "cell_type": "markdown",
      "id": "d643a53c",
      "metadata": {
        "id": "d643a53c"
      },
      "source": [
        "## 🧩 Main Application Logic"
      ]
    },
    {
      "cell_type": "code",
      "execution_count": 175,
      "id": "a9e2e805",
      "metadata": {
        "id": "a9e2e805"
      },
      "outputs": [],
      "source": [
        "# Tie everything together here\n",
        "def generate_weather_response(parsed_question, weather_data):\n",
        "    \"\"\"\n",
        "    Generate a natural language response to a weather question.\n",
        "\n",
        "    Args:\n",
        "        parsed_question (dict): Parsed question data\n",
        "        weather_data (dict): Weather data\n",
        "\n",
        "    Returns:\n",
        "        str: Natural language response\n",
        "    \"\"\"\n",
        "    pass"
      ]
    },
    {
      "cell_type": "markdown",
      "id": "fde44479",
      "metadata": {
        "id": "fde44479"
      },
      "source": [
        "## 🧪 Testing and Examples"
      ]
    },
    {
      "cell_type": "code",
      "execution_count": 176,
      "id": "4e573901",
      "metadata": {
        "id": "4e573901"
      },
      "outputs": [],
      "source": [
        "import os\n",
        "import re\n",
        "import math\n",
        "import requests\n",
        "import pandas as pd\n",
        "import matplotlib.pyplot as plt\n",
        "import pyinputplus as pyip\n",
        "from datetime import datetime, timedelta\n",
        "from typing import Dict, Any, Optional, Tuple, List"
      ]
    },
    {
      "cell_type": "code",
      "source": [
        "# -----------------------------\n",
        "# 🌍 Geocoding helper (Open-Meteo)\n",
        "# -----------------------------\n",
        "def geocode_location(name: str) -> Tuple[float, float, str, str]:\n",
        "    \"\"\"Return (lat, lon, city, country) for a location name using Open-Meteo Geocoding.\"\"\"\n",
        "    resp = requests.get(\n",
        "        \"https://geocoding-api.open-meteo.com/v1/search\",\n",
        "        params={\"name\": name, \"count\": 1, \"language\": \"en\", \"format\": \"json\"},\n",
        "        timeout=20,\n",
        "    )\n",
        "    resp.raise_for_status()\n",
        "    data = resp.json()\n",
        "    if not data.get(\"results\"):\n",
        "        raise ValueError(f\"Could not find location: {name}\")\n",
        "    r = data[\"results\"][0]\n",
        "    return float(r[\"latitude\"]), float(r[\"longitude\"]), r.get(\"name\", name), r.get(\"country\", \"\")\n"
      ],
      "metadata": {
        "id": "BNGJ8rbE2i8r"
      },
      "id": "BNGJ8rbE2i8r",
      "execution_count": 177,
      "outputs": []
    },
    {
      "cell_type": "code",
      "source": [
        "# -----------------------------\n",
        "# 🌤️ Weather Data Functions\n",
        "# -----------------------------\n",
        "def get_weather_data(location: str, forecast_days: int = 5) -> Dict[str, Any]:\n",
        "    \"\"\"\n",
        "    Retrieve weather data for a specified location from Open-Meteo.\n",
        "    Args:\n",
        "        location (str): City or location name (e.g., \"Dhaka\")\n",
        "        forecast_days (int): 1–7 days forecast\n",
        "    Returns:\n",
        "        dict: {\n",
        "          'location': {'query': str, 'city': str, 'country': str, 'lat': float, 'lon': float},\n",
        "          'daily': pd.DataFrame with columns [date, temp_max, temp_min, precipitation_mm, windspeed_max],\n",
        "          'fetched_at': iso string\n",
        "        }\n",
        "    \"\"\"\n",
        "    forecast_days = max(1, min(int(forecast_days), 7))  # Open-Meteo safe default\n",
        "    lat, lon, city, country = geocode_location(location)\n",
        "\n",
        "    params = {\n",
        "        \"latitude\": lat,\n",
        "        \"longitude\": lon,\n",
        "        \"daily\": \"temperature_2m_max,temperature_2m_min,precipitation_sum,windspeed_10m_max\",\n",
        "        \"timezone\": \"Asia/Dhaka\",            # adjust if you prefer UTC\n",
        "        \"forecast_days\": forecast_days\n",
        "    }\n",
        "    r = requests.get(\"https://api.open-meteo.com/v1/forecast\", params=params, timeout=30)\n",
        "    r.raise_for_status()\n",
        "    j = r.json()\n",
        "    daily = j.get(\"daily\", {})\n",
        "\n",
        "    df = pd.DataFrame({\n",
        "        \"date\": daily.get(\"time\", []),\n",
        "        \"temp_max\": daily.get(\"temperature_2m_max\", []),\n",
        "        \"temp_min\": daily.get(\"temperature_2m_min\", []),\n",
        "        \"precipitation_mm\": daily.get(\"precipitation_sum\", []),\n",
        "        \"windspeed_max\": daily.get(\"windspeed_10m_max\", []),\n",
        "    })\n",
        "    # Ensure proper dtypes\n",
        "    if not df.empty:\n",
        "        df[\"date\"] = pd.to_datetime(df[\"date\"])\n",
        "        for c in [\"temp_max\", \"temp_min\", \"precipitation_mm\", \"windspeed_max\"]:\n",
        "            df[c] = pd.to_numeric(df[c], errors=\"coerce\")\n",
        "\n",
        "    return {\n",
        "        \"location\": {\"query\": location, \"city\": city, \"country\": country, \"lat\": lat, \"lon\": lon},\n",
        "        \"daily\": df,\n",
        "        \"fetched_at\": datetime.now().isoformat(timespec=\"seconds\")\n",
        "    }"
      ],
      "metadata": {
        "id": "09zeJ0gm3acj"
      },
      "id": "09zeJ0gm3acj",
      "execution_count": 178,
      "outputs": []
    },
    {
      "cell_type": "code",
      "source": [
        "# -----------------------------\n",
        "# 📊 Visualisation Functions\n",
        "# -----------------------------\n",
        "def create_temperature_visualisation(weather_data: Dict[str, Any], output_type: str = 'display'):\n",
        "    \"\"\"\n",
        "    Plot max/min temperature lines.\n",
        "    Returns a matplotlib figure if output_type == 'figure', else displays.\n",
        "    \"\"\"\n",
        "    df = weather_data[\"daily\"].copy()\n",
        "    if df.empty:\n",
        "        raise ValueError(\"No daily data to plot.\")\n",
        "\n",
        "    fig, ax = plt.subplots(figsize=(10, 5))\n",
        "    ax.plot(df[\"date\"], df[\"temp_max\"], marker=\"o\", label=\"Max °C\")\n",
        "    ax.plot(df[\"date\"], df[\"temp_min\"], marker=\"o\", label=\"Min °C\")\n",
        "    ax.set_title(f\"Daily Temperatures — {weather_data['location']['city']}, {weather_data['location']['country']}\")\n",
        "    ax.set_xlabel(\"Date\")\n",
        "    ax.set_ylabel(\"°C\")\n",
        "    ax.legend()\n",
        "    plt.xticks(rotation=45)\n",
        "    plt.tight_layout()\n",
        "\n",
        "    if output_type == 'figure':\n",
        "        return fig\n",
        "    else:\n",
        "        plt.show()\n",
        "\n",
        "def create_precipitation_visualisation(weather_data: Dict[str, Any], output_type: str = 'display'):\n",
        "    \"\"\"\n",
        "    Bar chart of daily precipitation.\n",
        "    Returns a matplotlib figure if output_type == 'figure', else displays.\n",
        "    \"\"\"\n",
        "    df = weather_data[\"daily\"].copy()\n",
        "    if df.empty:\n",
        "        raise ValueError(\"No daily data to plot.\")\n",
        "\n",
        "    fig, ax = plt.subplots(figsize=(10, 5))\n",
        "    ax.bar(df[\"date\"], df[\"precipitation_mm\"])\n",
        "    ax.set_title(f\"Daily Precipitation — {weather_data['location']['city']}, {weather_data['location']['country']}\")\n",
        "    ax.set_xlabel(\"Date\")\n",
        "    ax.set_ylabel(\"Precipitation (mm)\")\n",
        "    plt.xticks(rotation=45)\n",
        "    plt.tight_layout()\n",
        "\n",
        "    if output_type == 'figure':\n",
        "        return fig\n",
        "    else:\n",
        "        plt.show()"
      ],
      "metadata": {
        "id": "7JuLI8iq4u57"
      },
      "id": "7JuLI8iq4u57",
      "execution_count": 179,
      "outputs": []
    },
    {
      "cell_type": "code",
      "source": [
        "# -----------------------------\n",
        "# 🤖 Natural Language Parsing\n",
        "# -----------------------------\n",
        "_TIME_WORDS = {\n",
        "    \"today\": 0,\n",
        "    \"tomorrow\": 1,\n",
        "    \"day after tomorrow\": 2,\n",
        "    \"next day\": 1\n",
        "}\n",
        "_ATTRS = {\n",
        "    \"rain\": \"precipitation\",\n",
        "    \"precipitation\": \"precipitation\",\n",
        "    \"wet\": \"precipitation\",\n",
        "    \"temperature\": \"temperature\",\n",
        "    \"hot\": \"temperature\",\n",
        "    \"cold\": \"temperature\",\n",
        "    \"wind\": \"wind\"\n",
        "}\n",
        "\n",
        "def _extract_location(q: str) -> Optional[str]:\n",
        "    \"\"\"\n",
        "    Very simple location extractor: looks for 'in <word(s)>' pattern.\n",
        "    Example: 'Will it rain in Dhaka tomorrow?' -> 'Dhaka'\n",
        "    \"\"\"\n",
        "    m = re.search(r\"\\bin\\s+([A-Za-z\\s]+?)(?:\\?|\\.|,|$)\", q, flags=re.IGNORECASE)\n",
        "    if m:\n",
        "        return m.group(1).strip()\n",
        "    return None\n",
        "\n",
        "def parse_weather_question(question: str) -> Dict[str, Any]:\n",
        "    \"\"\"\n",
        "    Parse a natural language question into:\n",
        "      - location (optional)\n",
        "      - days_ahead (0=today)\n",
        "      - days_span (if \"next 3 days\")\n",
        "      - attribute ('precipitation' / 'temperature' / 'wind')\n",
        "    \"\"\"\n",
        "    q = question.strip().lower()\n",
        "\n",
        "    # location\n",
        "    location = _extract_location(q)\n",
        "\n",
        "    # days_ahead / span\n",
        "    days_ahead = 0\n",
        "    for k, v in _TIME_WORDS.items():\n",
        "        if k in q:\n",
        "            days_ahead = v\n",
        "            break\n",
        "\n",
        "    span = 1\n",
        "    m = re.search(r\"next\\s+(\\d+)\\s+days\", q)\n",
        "    if m:\n",
        "        span = max(1, min(7, int(m.group(1))))\n",
        "\n",
        "    # attribute\n",
        "    attr = \"temperature\"\n",
        "    for k, mapped in _ATTRS.items():\n",
        "        if k in q:\n",
        "            attr = mapped\n",
        "            break\n",
        "\n",
        "    return {\"location\": location, \"days_ahead\": days_ahead, \"days_span\": span, \"attribute\": attr, \"raw\": question}\n"
      ],
      "metadata": {
        "id": "EMHTrvSw5dv3"
      },
      "id": "EMHTrvSw5dv3",
      "execution_count": 180,
      "outputs": []
    },
    {
      "cell_type": "code",
      "source": [
        "# -----------------------------\n",
        "# 🧩 Main Application Logic\n",
        "# -----------------------------\n",
        "def _summarise_temp(df: pd.DataFrame) -> str:\n",
        "    tmax = df[\"temp_max\"].max()\n",
        "    tmin = df[\"temp_min\"].min()\n",
        "    tavg = (df[\"temp_max\"] + df[\"temp_min\"]).mean()\n",
        "    return f\"Max: {tmax:.1f}°C, Min: {tmin:.1f}°C, Avg: {tavg:.1f}°C\"\n",
        "\n",
        "def _summarise_rain(df: pd.DataFrame) -> str:\n",
        "    total = df[\"precipitation_mm\"].sum()\n",
        "    wet_days = int((df[\"precipitation_mm\"] > 0).sum())\n",
        "    return f\"Total precipitation: {total:.1f} mm across {wet_days} day(s)\"\n",
        "\n",
        "def _summarise_wind(df: pd.DataFrame) -> str:\n",
        "    wmax = df[\"windspeed_max\"].max()\n",
        "    wavg = df[\"windspeed_max\"].mean()\n",
        "    return f\"Max wind speed: {wmax:.1f} km/h (approx), Average: {wavg:.1f} km/h\"\n",
        "\n",
        "def _window(df: pd.DataFrame, start_idx: int, span: int) -> pd.DataFrame:\n",
        "    start_idx = max(0, min(start_idx, len(df) - 1))\n",
        "    end_idx = max(start_idx + span, start_idx + 1)\n",
        "    return df.iloc[start_idx:end_idx].reset_index(drop=True)\n",
        "\n",
        "def generate_weather_response(parsed_question: Dict[str, Any], weather_data: Dict[str, Any]) -> str:\n",
        "    \"\"\"\n",
        "    Generate a natural language response based on the parsed question and fetched data.\n",
        "    \"\"\"\n",
        "    df = weather_data[\"daily\"]\n",
        "    if df.empty:\n",
        "        return \"I couldn't get any forecast data.\"\n",
        "\n",
        "    # Determine index window (0=today)\n",
        "    start_idx = parsed_question.get(\"days_ahead\", 0)\n",
        "    span = parsed_question.get(\"days_span\", 1)\n",
        "    dfw = _window(df, start_idx, span)\n",
        "\n",
        "    city = weather_data[\"location\"][\"city\"]\n",
        "    country = weather_data[\"location\"][\"country\"]\n",
        "    attribute = parsed_question.get(\"attribute\", \"temperature\")\n",
        "    date_range = f\"{dfw['date'].iloc[0].date()} to {dfw['date'].iloc[-1].date()}\" if len(dfw) > 1 else str(dfw['date'].iloc[0].date())\n",
        "\n",
        "    if attribute == \"precipitation\":\n",
        "        s = _summarise_rain(dfw)\n",
        "        hint = \"\"\n",
        "        # Simple rain chance hint\n",
        "        if (dfw[\"precipitation_mm\"] > 0).any():\n",
        "            hint = \" Carry an umbrella just in case.\"\n",
        "        return f\"In {city}, {country} ({date_range}), expected rain summary → {s}.{hint}\"\n",
        "\n",
        "    elif attribute == \"wind\":\n",
        "        s = _summarise_wind(dfw)\n",
        "        return f\"Wind outlook for {city}, {country} ({date_range}): {s}.\"\n",
        "\n",
        "    else:\n",
        "        # temperature\n",
        "        s = _summarise_temp(dfw)\n",
        "        feel = \" It may feel hot.\" if dfw[\"temp_max\"].mean() >= 32 else (\" It may feel cool.\" if dfw[\"temp_min\"].mean() <= 18 else \"\")\n",
        "        return f\"Temperature outlook for {city}, {country} ({date_range}): {s}.{feel}\"\n"
      ],
      "metadata": {
        "id": "xVe13Bwc7DnS"
      },
      "id": "xVe13Bwc7DnS",
      "execution_count": 181,
      "outputs": []
    },
    {
      "cell_type": "code",
      "source": [
        "# -----------------------------\n",
        "# 🧭 Simple CLI (pyinputplus)\n",
        "# -----------------------------\n",
        "def run_cli():\n",
        "    print(\"=== WeatherWise (Open-Meteo) ===\")\n",
        "    city = pyip.inputStr(\"Enter city name (e.g., Dhaka): \")\n",
        "    days = pyip.inputInt(\"Forecast days (1-7): \", min=1, max=7)\n",
        "    data = get_weather_data(city, forecast_days=days)\n",
        "\n",
        "    # Show quick plots\n",
        "    create_temperature_visualisation(data, output_type='display')\n",
        "    create_precipitation_visualisation(data, output_type='display')\n",
        "\n",
        "    # Ask a question\n",
        "    q = pyip.inputStr(\"Ask a question (e.g., 'Will it rain in Dhaka tomorrow?'): \")\n",
        "    parsed = parse_weather_question(q)\n",
        "    if parsed.get(\"location\") and parsed[\"location\"].lower() != city.lower():\n",
        "        # If the question mentions a different city, fetch it\n",
        "        data = get_weather_data(parsed[\"location\"], forecast_days=days)\n",
        "    print(generate_weather_response(parsed, data))\n"
      ],
      "metadata": {
        "id": "jEP7w8kl-vV2"
      },
      "id": "jEP7w8kl-vV2",
      "execution_count": 182,
      "outputs": []
    },
    {
      "cell_type": "code",
      "source": [
        "# -----------------------------\n",
        "# 🧪 Testing / Examples\n",
        "# -----------------------------\n",
        "def _demo():\n",
        "    # Minimal demo without CLI\n",
        "    d = get_weather_data(\"Dhaka\", forecast_days=5)\n",
        "    create_temperature_visualisation(d)\n",
        "    create_precipitation_visualisation(d)\n",
        "    q = \"Will it rain in Dhaka tomorrow?\"\n",
        "    parsed = parse_weather_question(q)\n",
        "    print(\"Q:\", q)\n"
      ],
      "metadata": {
        "id": "16QYfmHo_ele"
      },
      "id": "16QYfmHo_ele",
      "execution_count": 183,
      "outputs": []
    },
    {
      "cell_type": "markdown",
      "id": "d2885880",
      "metadata": {
        "id": "d2885880"
      },
      "source": [
        "## 🗂️ AI Prompting Log (Optional)\n",
        "Add markdown cells here summarising prompts used or link to AI conversations in the `ai-conversations/` folder."
      ]
    }
  ],
  "metadata": {
    "language_info": {
      "name": "python"
    },
    "colab": {
      "provenance": []
    },
    "kernelspec": {
      "name": "python3",
      "display_name": "Python 3"
    }
  },
  "nbformat": 4,
  "nbformat_minor": 5
}